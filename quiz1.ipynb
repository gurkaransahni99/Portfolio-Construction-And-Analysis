{
 "cells": [
  {
   "cell_type": "code",
   "execution_count": 9,
   "metadata": {},
   "outputs": [],
   "source": [
    "import pandas as pd\n",
    "returns = pd.read_csv(\"Portfolios_Formed_on_ME_monthly_EW.csv\", header=0, index_col=0, parse_dates=True,na_values=-99.99)"
   ]
  },
  {
   "cell_type": "code",
   "execution_count": 10,
   "metadata": {},
   "outputs": [
    {
     "data": {
      "text/html": [
       "<div>\n",
       "<style scoped>\n",
       "    .dataframe tbody tr th:only-of-type {\n",
       "        vertical-align: middle;\n",
       "    }\n",
       "\n",
       "    .dataframe tbody tr th {\n",
       "        vertical-align: top;\n",
       "    }\n",
       "\n",
       "    .dataframe thead th {\n",
       "        text-align: right;\n",
       "    }\n",
       "</style>\n",
       "<table border=\"1\" class=\"dataframe\">\n",
       "  <thead>\n",
       "    <tr style=\"text-align: right;\">\n",
       "      <th></th>\n",
       "      <th>&lt;= 0</th>\n",
       "      <th>Lo 30</th>\n",
       "      <th>Med 40</th>\n",
       "      <th>Hi 30</th>\n",
       "      <th>Lo 20</th>\n",
       "      <th>Qnt 2</th>\n",
       "      <th>Qnt 3</th>\n",
       "      <th>Qnt 4</th>\n",
       "      <th>Hi 20</th>\n",
       "      <th>Lo 10</th>\n",
       "      <th>Dec 2</th>\n",
       "      <th>Dec 3</th>\n",
       "      <th>Dec 4</th>\n",
       "      <th>Dec 5</th>\n",
       "      <th>Dec 6</th>\n",
       "      <th>Dec 7</th>\n",
       "      <th>Dec 8</th>\n",
       "      <th>Dec 9</th>\n",
       "      <th>Hi 10</th>\n",
       "    </tr>\n",
       "  </thead>\n",
       "  <tbody>\n",
       "    <tr>\n",
       "      <th>192607</th>\n",
       "      <td>NaN</td>\n",
       "      <td>-0.43</td>\n",
       "      <td>1.52</td>\n",
       "      <td>2.68</td>\n",
       "      <td>-0.57</td>\n",
       "      <td>0.59</td>\n",
       "      <td>1.60</td>\n",
       "      <td>1.47</td>\n",
       "      <td>3.33</td>\n",
       "      <td>-1.45</td>\n",
       "      <td>0.29</td>\n",
       "      <td>-0.15</td>\n",
       "      <td>1.33</td>\n",
       "      <td>1.24</td>\n",
       "      <td>1.98</td>\n",
       "      <td>1.55</td>\n",
       "      <td>1.38</td>\n",
       "      <td>3.38</td>\n",
       "      <td>3.29</td>\n",
       "    </tr>\n",
       "    <tr>\n",
       "      <th>192608</th>\n",
       "      <td>NaN</td>\n",
       "      <td>3.90</td>\n",
       "      <td>3.04</td>\n",
       "      <td>2.09</td>\n",
       "      <td>3.84</td>\n",
       "      <td>3.59</td>\n",
       "      <td>3.71</td>\n",
       "      <td>1.61</td>\n",
       "      <td>2.33</td>\n",
       "      <td>5.12</td>\n",
       "      <td>2.59</td>\n",
       "      <td>4.03</td>\n",
       "      <td>3.15</td>\n",
       "      <td>2.72</td>\n",
       "      <td>4.72</td>\n",
       "      <td>1.60</td>\n",
       "      <td>1.63</td>\n",
       "      <td>0.98</td>\n",
       "      <td>3.70</td>\n",
       "    </tr>\n",
       "    <tr>\n",
       "      <th>192609</th>\n",
       "      <td>NaN</td>\n",
       "      <td>-1.08</td>\n",
       "      <td>-0.54</td>\n",
       "      <td>0.16</td>\n",
       "      <td>-0.48</td>\n",
       "      <td>-1.40</td>\n",
       "      <td>0.00</td>\n",
       "      <td>-0.50</td>\n",
       "      <td>-0.09</td>\n",
       "      <td>0.93</td>\n",
       "      <td>-1.87</td>\n",
       "      <td>-2.27</td>\n",
       "      <td>-0.53</td>\n",
       "      <td>0.07</td>\n",
       "      <td>-0.07</td>\n",
       "      <td>-1.64</td>\n",
       "      <td>0.64</td>\n",
       "      <td>-0.86</td>\n",
       "      <td>0.67</td>\n",
       "    </tr>\n",
       "    <tr>\n",
       "      <th>192610</th>\n",
       "      <td>NaN</td>\n",
       "      <td>-3.32</td>\n",
       "      <td>-3.52</td>\n",
       "      <td>-3.06</td>\n",
       "      <td>-3.29</td>\n",
       "      <td>-4.10</td>\n",
       "      <td>-2.89</td>\n",
       "      <td>-3.36</td>\n",
       "      <td>-2.95</td>\n",
       "      <td>-4.84</td>\n",
       "      <td>-1.77</td>\n",
       "      <td>-3.36</td>\n",
       "      <td>-4.83</td>\n",
       "      <td>-2.98</td>\n",
       "      <td>-2.80</td>\n",
       "      <td>-3.45</td>\n",
       "      <td>-3.27</td>\n",
       "      <td>-3.47</td>\n",
       "      <td>-2.43</td>\n",
       "    </tr>\n",
       "    <tr>\n",
       "      <th>192611</th>\n",
       "      <td>NaN</td>\n",
       "      <td>-0.46</td>\n",
       "      <td>3.82</td>\n",
       "      <td>3.09</td>\n",
       "      <td>-0.55</td>\n",
       "      <td>2.18</td>\n",
       "      <td>3.41</td>\n",
       "      <td>3.39</td>\n",
       "      <td>3.16</td>\n",
       "      <td>-0.78</td>\n",
       "      <td>-0.32</td>\n",
       "      <td>-0.29</td>\n",
       "      <td>4.65</td>\n",
       "      <td>3.24</td>\n",
       "      <td>3.57</td>\n",
       "      <td>3.82</td>\n",
       "      <td>2.95</td>\n",
       "      <td>3.61</td>\n",
       "      <td>2.70</td>\n",
       "    </tr>\n",
       "  </tbody>\n",
       "</table>\n",
       "</div>"
      ],
      "text/plain": [
       "        <= 0  Lo 30  Med 40  Hi 30  Lo 20  Qnt 2  Qnt 3  Qnt 4  Hi 20  Lo 10  \\\n",
       "192607   NaN  -0.43    1.52   2.68  -0.57   0.59   1.60   1.47   3.33  -1.45   \n",
       "192608   NaN   3.90    3.04   2.09   3.84   3.59   3.71   1.61   2.33   5.12   \n",
       "192609   NaN  -1.08   -0.54   0.16  -0.48  -1.40   0.00  -0.50  -0.09   0.93   \n",
       "192610   NaN  -3.32   -3.52  -3.06  -3.29  -4.10  -2.89  -3.36  -2.95  -4.84   \n",
       "192611   NaN  -0.46    3.82   3.09  -0.55   2.18   3.41   3.39   3.16  -0.78   \n",
       "\n",
       "        Dec 2  Dec 3  Dec 4  Dec 5  Dec 6  Dec 7  Dec 8  Dec 9  Hi 10  \n",
       "192607   0.29  -0.15   1.33   1.24   1.98   1.55   1.38   3.38   3.29  \n",
       "192608   2.59   4.03   3.15   2.72   4.72   1.60   1.63   0.98   3.70  \n",
       "192609  -1.87  -2.27  -0.53   0.07  -0.07  -1.64   0.64  -0.86   0.67  \n",
       "192610  -1.77  -3.36  -4.83  -2.98  -2.80  -3.45  -3.27  -3.47  -2.43  \n",
       "192611  -0.32  -0.29   4.65   3.24   3.57   3.82   2.95   3.61   2.70  "
      ]
     },
     "execution_count": 10,
     "metadata": {},
     "output_type": "execute_result"
    }
   ],
   "source": [
    "returns.head()"
   ]
  },
  {
   "cell_type": "code",
   "execution_count": 16,
   "metadata": {},
   "outputs": [
    {
     "data": {
      "text/html": [
       "<div>\n",
       "<style scoped>\n",
       "    .dataframe tbody tr th:only-of-type {\n",
       "        vertical-align: middle;\n",
       "    }\n",
       "\n",
       "    .dataframe tbody tr th {\n",
       "        vertical-align: top;\n",
       "    }\n",
       "\n",
       "    .dataframe thead th {\n",
       "        text-align: right;\n",
       "    }\n",
       "</style>\n",
       "<table border=\"1\" class=\"dataframe\">\n",
       "  <thead>\n",
       "    <tr style=\"text-align: right;\">\n",
       "      <th></th>\n",
       "      <th>Hi 20</th>\n",
       "      <th>Lo 20</th>\n",
       "    </tr>\n",
       "  </thead>\n",
       "  <tbody>\n",
       "    <tr>\n",
       "      <th>1926-07-01</th>\n",
       "      <td>0.0333</td>\n",
       "      <td>-0.0057</td>\n",
       "    </tr>\n",
       "    <tr>\n",
       "      <th>1926-08-01</th>\n",
       "      <td>0.0233</td>\n",
       "      <td>0.0384</td>\n",
       "    </tr>\n",
       "    <tr>\n",
       "      <th>1926-09-01</th>\n",
       "      <td>-0.0009</td>\n",
       "      <td>-0.0048</td>\n",
       "    </tr>\n",
       "    <tr>\n",
       "      <th>1926-10-01</th>\n",
       "      <td>-0.0295</td>\n",
       "      <td>-0.0329</td>\n",
       "    </tr>\n",
       "    <tr>\n",
       "      <th>1926-11-01</th>\n",
       "      <td>0.0316</td>\n",
       "      <td>-0.0055</td>\n",
       "    </tr>\n",
       "  </tbody>\n",
       "</table>\n",
       "</div>"
      ],
      "text/plain": [
       "             Hi 20   Lo 20\n",
       "1926-07-01  0.0333 -0.0057\n",
       "1926-08-01  0.0233  0.0384\n",
       "1926-09-01 -0.0009 -0.0048\n",
       "1926-10-01 -0.0295 -0.0329\n",
       "1926-11-01  0.0316 -0.0055"
      ]
     },
     "execution_count": 16,
     "metadata": {},
     "output_type": "execute_result"
    }
   ],
   "source": [
    "returns.index=pd.to_datetime(returns.index, format=\"%Y%m\")\n",
    "returns=returns[[\"Hi 20\", \"Lo 20\"]]\n",
    "returns=returns/100\n",
    "returns.head()"
   ]
  },
  {
   "cell_type": "code",
   "execution_count": 22,
   "metadata": {},
   "outputs": [
    {
     "data": {
      "text/plain": [
       "0.15197701163833743"
      ]
     },
     "execution_count": 22,
     "metadata": {},
     "output_type": "execute_result"
    }
   ],
   "source": [
    "(returns[\"Lo 20\"]+1).prod()**(12/returns.shape[0])-1"
   ]
  },
  {
   "cell_type": "code",
   "execution_count": 25,
   "metadata": {},
   "outputs": [
    {
     "data": {
      "text/plain": [
       "0.33670127517157755"
      ]
     },
     "execution_count": 25,
     "metadata": {},
     "output_type": "execute_result"
    }
   ],
   "source": [
    "returns[\"Lo 20\"].std()*(12**0.5)"
   ]
  },
  {
   "cell_type": "code",
   "execution_count": 26,
   "metadata": {},
   "outputs": [
    {
     "data": {
      "text/plain": [
       "0.09849020951253151"
      ]
     },
     "execution_count": 26,
     "metadata": {},
     "output_type": "execute_result"
    }
   ],
   "source": [
    "(returns[\"Hi 20\"]+1).prod()**(12/returns.shape[0])-1"
   ]
  },
  {
   "cell_type": "code",
   "execution_count": 27,
   "metadata": {},
   "outputs": [
    {
     "data": {
      "text/plain": [
       "0.19511604155631315"
      ]
     },
     "execution_count": 27,
     "metadata": {},
     "output_type": "execute_result"
    }
   ],
   "source": [
    "returns[\"Hi 20\"].std()*(12**0.5)"
   ]
  },
  {
   "cell_type": "code",
   "execution_count": 29,
   "metadata": {},
   "outputs": [
    {
     "data": {
      "text/plain": [
       "0.02187360774166991"
      ]
     },
     "execution_count": 29,
     "metadata": {},
     "output_type": "execute_result"
    }
   ],
   "source": [
    "(returns[\"Lo 20\"][\"1999\":\"2016\"]+1).prod()**(12/returns.shape[0])-1"
   ]
  },
  {
   "cell_type": "code",
   "execution_count": 30,
   "metadata": {},
   "outputs": [
    {
     "data": {
      "text/plain": [
       "0.22665093825959212"
      ]
     },
     "execution_count": 30,
     "metadata": {},
     "output_type": "execute_result"
    }
   ],
   "source": [
    "returns[\"Lo 20\"][\"1999\":\"2016\"].std()*(12**0.5)"
   ]
  },
  {
   "cell_type": "code",
   "execution_count": 31,
   "metadata": {},
   "outputs": [
    {
     "data": {
      "text/plain": [
       "0.012658886575287465"
      ]
     },
     "execution_count": 31,
     "metadata": {},
     "output_type": "execute_result"
    }
   ],
   "source": [
    "(returns[\"Hi 20\"][\"1999\":\"2016\"]+1).prod()**(12/returns.shape[0])-1"
   ]
  },
  {
   "cell_type": "code",
   "execution_count": 32,
   "metadata": {},
   "outputs": [
    {
     "data": {
      "text/plain": [
       "0.16992195186643247"
      ]
     },
     "execution_count": 32,
     "metadata": {},
     "output_type": "execute_result"
    }
   ],
   "source": [
    "returns[\"Hi 20\"][\"1999\":\"2016\"].std()*(12**0.5)"
   ]
  },
  {
   "cell_type": "code",
   "execution_count": 74,
   "metadata": {},
   "outputs": [],
   "source": [
    "def drawdown(returns):\n",
    "    wealthGrowth = 100*(1+returns).cumprod()\n",
    "    maxReturn=wealthGrowth.cummax()\n",
    "    drawdown=(wealthGrowth-maxReturn)/maxReturn\n",
    "    return drawdown"
   ]
  },
  {
   "cell_type": "code",
   "execution_count": 79,
   "metadata": {},
   "outputs": [
    {
     "data": {
      "text/plain": [
       "-0.6248092431236987"
      ]
     },
     "execution_count": 79,
     "metadata": {},
     "output_type": "execute_result"
    }
   ],
   "source": [
    "drawdown(returns)[\"Lo 20\"][\"1999\":\"2016\"].min()"
   ]
  },
  {
   "cell_type": "code",
   "execution_count": 75,
   "metadata": {},
   "outputs": [
    {
     "data": {
      "text/plain": [
       "Timestamp('2009-02-01 00:00:00')"
      ]
     },
     "execution_count": 75,
     "metadata": {},
     "output_type": "execute_result"
    }
   ],
   "source": [
    "drawdown(returns)[\"Lo 20\"][\"1999\":\"2016\"].idxmin()"
   ]
  },
  {
   "cell_type": "code",
   "execution_count": 78,
   "metadata": {},
   "outputs": [
    {
     "data": {
      "text/plain": [
       "-0.5527349978713652"
      ]
     },
     "execution_count": 78,
     "metadata": {},
     "output_type": "execute_result"
    }
   ],
   "source": [
    "drawdown(returns)[\"Hi 20\"][\"1999\":\"2016\"].min()"
   ]
  },
  {
   "cell_type": "code",
   "execution_count": 80,
   "metadata": {},
   "outputs": [
    {
     "data": {
      "text/plain": [
       "Timestamp('2009-02-01 00:00:00')"
      ]
     },
     "execution_count": 80,
     "metadata": {},
     "output_type": "execute_result"
    }
   ],
   "source": [
    "drawdown(returns)[\"Hi 20\"][\"1999\":\"2016\"].idxmin()"
   ]
  },
  {
   "cell_type": "code",
   "execution_count": 81,
   "metadata": {},
   "outputs": [
    {
     "data": {
      "text/html": [
       "<div>\n",
       "<style scoped>\n",
       "    .dataframe tbody tr th:only-of-type {\n",
       "        vertical-align: middle;\n",
       "    }\n",
       "\n",
       "    .dataframe tbody tr th {\n",
       "        vertical-align: top;\n",
       "    }\n",
       "\n",
       "    .dataframe thead th {\n",
       "        text-align: right;\n",
       "    }\n",
       "</style>\n",
       "<table border=\"1\" class=\"dataframe\">\n",
       "  <thead>\n",
       "    <tr style=\"text-align: right;\">\n",
       "      <th></th>\n",
       "      <th>Convertible Arbitrage</th>\n",
       "      <th>CTA Global</th>\n",
       "      <th>Distressed Securities</th>\n",
       "      <th>Emerging Markets</th>\n",
       "      <th>Equity Market Neutral</th>\n",
       "      <th>Event Driven</th>\n",
       "      <th>Fixed Income Arbitrage</th>\n",
       "      <th>Global Macro</th>\n",
       "      <th>Long/Short Equity</th>\n",
       "      <th>Merger Arbitrage</th>\n",
       "      <th>Relative Value</th>\n",
       "      <th>Short Selling</th>\n",
       "      <th>Funds Of Funds</th>\n",
       "    </tr>\n",
       "    <tr>\n",
       "      <th>date</th>\n",
       "      <th></th>\n",
       "      <th></th>\n",
       "      <th></th>\n",
       "      <th></th>\n",
       "      <th></th>\n",
       "      <th></th>\n",
       "      <th></th>\n",
       "      <th></th>\n",
       "      <th></th>\n",
       "      <th></th>\n",
       "      <th></th>\n",
       "      <th></th>\n",
       "      <th></th>\n",
       "    </tr>\n",
       "  </thead>\n",
       "  <tbody>\n",
       "    <tr>\n",
       "      <th>1997-01-31</th>\n",
       "      <td>1.19</td>\n",
       "      <td>3.93</td>\n",
       "      <td>1.78</td>\n",
       "      <td>7.91</td>\n",
       "      <td>1.89</td>\n",
       "      <td>2.13</td>\n",
       "      <td>1.91</td>\n",
       "      <td>5.73</td>\n",
       "      <td>2.81</td>\n",
       "      <td>1.50</td>\n",
       "      <td>1.80</td>\n",
       "      <td>-1.66</td>\n",
       "      <td>3.17</td>\n",
       "    </tr>\n",
       "    <tr>\n",
       "      <th>1997-02-28</th>\n",
       "      <td>1.23</td>\n",
       "      <td>2.98</td>\n",
       "      <td>1.22</td>\n",
       "      <td>5.25</td>\n",
       "      <td>1.01</td>\n",
       "      <td>0.84</td>\n",
       "      <td>1.22</td>\n",
       "      <td>1.75</td>\n",
       "      <td>-0.06</td>\n",
       "      <td>0.34</td>\n",
       "      <td>1.18</td>\n",
       "      <td>4.26</td>\n",
       "      <td>1.06</td>\n",
       "    </tr>\n",
       "    <tr>\n",
       "      <th>1997-03-31</th>\n",
       "      <td>0.78</td>\n",
       "      <td>-0.21</td>\n",
       "      <td>-0.12</td>\n",
       "      <td>-1.20</td>\n",
       "      <td>0.16</td>\n",
       "      <td>-0.23</td>\n",
       "      <td>1.09</td>\n",
       "      <td>-1.19</td>\n",
       "      <td>-0.84</td>\n",
       "      <td>0.60</td>\n",
       "      <td>0.10</td>\n",
       "      <td>7.78</td>\n",
       "      <td>-0.77</td>\n",
       "    </tr>\n",
       "    <tr>\n",
       "      <th>1997-04-30</th>\n",
       "      <td>0.86</td>\n",
       "      <td>-1.70</td>\n",
       "      <td>0.30</td>\n",
       "      <td>1.19</td>\n",
       "      <td>1.19</td>\n",
       "      <td>-0.05</td>\n",
       "      <td>1.30</td>\n",
       "      <td>1.72</td>\n",
       "      <td>0.84</td>\n",
       "      <td>-0.01</td>\n",
       "      <td>1.22</td>\n",
       "      <td>-1.29</td>\n",
       "      <td>0.09</td>\n",
       "    </tr>\n",
       "    <tr>\n",
       "      <th>1997-05-31</th>\n",
       "      <td>1.56</td>\n",
       "      <td>-0.15</td>\n",
       "      <td>2.33</td>\n",
       "      <td>3.15</td>\n",
       "      <td>1.89</td>\n",
       "      <td>3.46</td>\n",
       "      <td>1.18</td>\n",
       "      <td>1.08</td>\n",
       "      <td>3.94</td>\n",
       "      <td>1.97</td>\n",
       "      <td>1.73</td>\n",
       "      <td>-7.37</td>\n",
       "      <td>2.75</td>\n",
       "    </tr>\n",
       "    <tr>\n",
       "      <th>...</th>\n",
       "      <td>...</td>\n",
       "      <td>...</td>\n",
       "      <td>...</td>\n",
       "      <td>...</td>\n",
       "      <td>...</td>\n",
       "      <td>...</td>\n",
       "      <td>...</td>\n",
       "      <td>...</td>\n",
       "      <td>...</td>\n",
       "      <td>...</td>\n",
       "      <td>...</td>\n",
       "      <td>...</td>\n",
       "      <td>...</td>\n",
       "    </tr>\n",
       "    <tr>\n",
       "      <th>2018-07-31</th>\n",
       "      <td>0.21</td>\n",
       "      <td>-0.58</td>\n",
       "      <td>0.93</td>\n",
       "      <td>0.40</td>\n",
       "      <td>-0.10</td>\n",
       "      <td>0.55</td>\n",
       "      <td>0.22</td>\n",
       "      <td>-0.14</td>\n",
       "      <td>0.67</td>\n",
       "      <td>-0.21</td>\n",
       "      <td>0.45</td>\n",
       "      <td>-0.52</td>\n",
       "      <td>0.18</td>\n",
       "    </tr>\n",
       "    <tr>\n",
       "      <th>2018-08-31</th>\n",
       "      <td>0.24</td>\n",
       "      <td>1.66</td>\n",
       "      <td>0.02</td>\n",
       "      <td>-2.77</td>\n",
       "      <td>0.04</td>\n",
       "      <td>0.11</td>\n",
       "      <td>0.17</td>\n",
       "      <td>-0.07</td>\n",
       "      <td>0.35</td>\n",
       "      <td>0.50</td>\n",
       "      <td>-0.02</td>\n",
       "      <td>-2.14</td>\n",
       "      <td>0.15</td>\n",
       "    </tr>\n",
       "    <tr>\n",
       "      <th>2018-09-30</th>\n",
       "      <td>0.34</td>\n",
       "      <td>-0.54</td>\n",
       "      <td>0.50</td>\n",
       "      <td>-1.10</td>\n",
       "      <td>-0.16</td>\n",
       "      <td>0.32</td>\n",
       "      <td>0.36</td>\n",
       "      <td>0.06</td>\n",
       "      <td>-0.23</td>\n",
       "      <td>0.28</td>\n",
       "      <td>0.18</td>\n",
       "      <td>0.36</td>\n",
       "      <td>-0.22</td>\n",
       "    </tr>\n",
       "    <tr>\n",
       "      <th>2018-10-31</th>\n",
       "      <td>-0.73</td>\n",
       "      <td>-3.14</td>\n",
       "      <td>-1.58</td>\n",
       "      <td>-3.15</td>\n",
       "      <td>-1.29</td>\n",
       "      <td>-2.57</td>\n",
       "      <td>-0.23</td>\n",
       "      <td>-0.96</td>\n",
       "      <td>-4.02</td>\n",
       "      <td>-0.80</td>\n",
       "      <td>-1.09</td>\n",
       "      <td>2.37</td>\n",
       "      <td>-2.69</td>\n",
       "    </tr>\n",
       "    <tr>\n",
       "      <th>2018-11-30</th>\n",
       "      <td>-0.68</td>\n",
       "      <td>-0.53</td>\n",
       "      <td>-1.93</td>\n",
       "      <td>1.20</td>\n",
       "      <td>-2.11</td>\n",
       "      <td>-0.34</td>\n",
       "      <td>-0.67</td>\n",
       "      <td>-0.87</td>\n",
       "      <td>-0.44</td>\n",
       "      <td>1.19</td>\n",
       "      <td>-0.63</td>\n",
       "      <td>-0.21</td>\n",
       "      <td>-0.71</td>\n",
       "    </tr>\n",
       "  </tbody>\n",
       "</table>\n",
       "<p>263 rows × 13 columns</p>\n",
       "</div>"
      ],
      "text/plain": [
       "            Convertible Arbitrage  CTA Global  Distressed Securities  \\\n",
       "date                                                                   \n",
       "1997-01-31                   1.19        3.93                   1.78   \n",
       "1997-02-28                   1.23        2.98                   1.22   \n",
       "1997-03-31                   0.78       -0.21                  -0.12   \n",
       "1997-04-30                   0.86       -1.70                   0.30   \n",
       "1997-05-31                   1.56       -0.15                   2.33   \n",
       "...                           ...         ...                    ...   \n",
       "2018-07-31                   0.21       -0.58                   0.93   \n",
       "2018-08-31                   0.24        1.66                   0.02   \n",
       "2018-09-30                   0.34       -0.54                   0.50   \n",
       "2018-10-31                  -0.73       -3.14                  -1.58   \n",
       "2018-11-30                  -0.68       -0.53                  -1.93   \n",
       "\n",
       "            Emerging Markets  Equity Market Neutral  Event Driven  \\\n",
       "date                                                                \n",
       "1997-01-31              7.91                   1.89          2.13   \n",
       "1997-02-28              5.25                   1.01          0.84   \n",
       "1997-03-31             -1.20                   0.16         -0.23   \n",
       "1997-04-30              1.19                   1.19         -0.05   \n",
       "1997-05-31              3.15                   1.89          3.46   \n",
       "...                      ...                    ...           ...   \n",
       "2018-07-31              0.40                  -0.10          0.55   \n",
       "2018-08-31             -2.77                   0.04          0.11   \n",
       "2018-09-30             -1.10                  -0.16          0.32   \n",
       "2018-10-31             -3.15                  -1.29         -2.57   \n",
       "2018-11-30              1.20                  -2.11         -0.34   \n",
       "\n",
       "            Fixed Income Arbitrage  Global Macro  Long/Short Equity  \\\n",
       "date                                                                  \n",
       "1997-01-31                    1.91          5.73               2.81   \n",
       "1997-02-28                    1.22          1.75              -0.06   \n",
       "1997-03-31                    1.09         -1.19              -0.84   \n",
       "1997-04-30                    1.30          1.72               0.84   \n",
       "1997-05-31                    1.18          1.08               3.94   \n",
       "...                            ...           ...                ...   \n",
       "2018-07-31                    0.22         -0.14               0.67   \n",
       "2018-08-31                    0.17         -0.07               0.35   \n",
       "2018-09-30                    0.36          0.06              -0.23   \n",
       "2018-10-31                   -0.23         -0.96              -4.02   \n",
       "2018-11-30                   -0.67         -0.87              -0.44   \n",
       "\n",
       "            Merger Arbitrage  Relative Value  Short Selling  Funds Of Funds  \n",
       "date                                                                         \n",
       "1997-01-31              1.50            1.80          -1.66            3.17  \n",
       "1997-02-28              0.34            1.18           4.26            1.06  \n",
       "1997-03-31              0.60            0.10           7.78           -0.77  \n",
       "1997-04-30             -0.01            1.22          -1.29            0.09  \n",
       "1997-05-31              1.97            1.73          -7.37            2.75  \n",
       "...                      ...             ...            ...             ...  \n",
       "2018-07-31             -0.21            0.45          -0.52            0.18  \n",
       "2018-08-31              0.50           -0.02          -2.14            0.15  \n",
       "2018-09-30              0.28            0.18           0.36           -0.22  \n",
       "2018-10-31             -0.80           -1.09           2.37           -2.69  \n",
       "2018-11-30              1.19           -0.63          -0.21           -0.71  \n",
       "\n",
       "[263 rows x 13 columns]"
      ]
     },
     "execution_count": 81,
     "metadata": {},
     "output_type": "execute_result"
    }
   ],
   "source": [
    "hedgeFunds = pd.read_csv(\"edhec-hedgefundindices.csv\", header=0, index_col=0, parse_dates=True,na_values=-99.99)\n",
    "hedgeFunds"
   ]
  },
  {
   "cell_type": "code",
   "execution_count": 83,
   "metadata": {},
   "outputs": [
    {
     "data": {
      "text/plain": [
       "Convertible Arbitrage     1.653593\n",
       "CTA Global                2.329015\n",
       "Distressed Securities     1.700922\n",
       "Emerging Markets          3.247559\n",
       "Equity Market Neutral     0.811480\n",
       "Event Driven              1.671168\n",
       "Fixed Income Arbitrage    1.151700\n",
       "Global Macro              1.469404\n",
       "Long/Short Equity         1.989693\n",
       "Merger Arbitrage          0.960047\n",
       "Relative Value            1.146198\n",
       "Short Selling             4.765495\n",
       "Funds Of Funds            1.553616\n",
       "dtype: float64"
      ]
     },
     "execution_count": 83,
     "metadata": {},
     "output_type": "execute_result"
    }
   ],
   "source": [
    "hedgeFunds.std(ddof=0)"
   ]
  },
  {
   "cell_type": "code",
   "execution_count": 88,
   "metadata": {},
   "outputs": [
    {
     "data": {
      "text/plain": [
       "Fixed Income Arbitrage    0.332054\n",
       "Merger Arbitrage          0.361121\n",
       "Global Macro              0.507508\n",
       "Equity Market Neutral     0.518610\n",
       "Relative Value            0.571123\n",
       "Convertible Arbitrage     0.668103\n",
       "Funds Of Funds            0.794842\n",
       "Distressed Securities     0.949845\n",
       "Event Driven              1.013464\n",
       "CTA Global                1.099578\n",
       "Long/Short Equity         1.213857\n",
       "Emerging Markets          1.527598\n",
       "Short Selling             2.124006\n",
       "dtype: float64"
      ]
     },
     "execution_count": 88,
     "metadata": {},
     "output_type": "execute_result"
    }
   ],
   "source": [
    "hedgeFunds[\"2009\":\"2019\"][hedgeFunds<0].std(ddof=0).sort_values()"
   ]
  },
  {
   "cell_type": "code",
   "execution_count": 89,
   "metadata": {},
   "outputs": [
    {
     "data": {
      "text/plain": [
       "Fixed Income Arbitrage    0.332054\n",
       "Merger Arbitrage          0.361121\n",
       "Global Macro              0.507508\n",
       "Equity Market Neutral     0.518610\n",
       "Relative Value            0.571123\n",
       "Convertible Arbitrage     0.668103\n",
       "Funds Of Funds            0.794842\n",
       "Distressed Securities     0.949845\n",
       "Event Driven              1.013464\n",
       "CTA Global                1.099578\n",
       "Long/Short Equity         1.213857\n",
       "Emerging Markets          1.527598\n",
       "Short Selling             2.124006\n",
       "dtype: float64"
      ]
     },
     "execution_count": 89,
     "metadata": {},
     "output_type": "execute_result"
    }
   ],
   "source": [
    "hedgeFunds[\"2009\":][hedgeFunds<0].std(ddof=0).sort_values()"
   ]
  },
  {
   "cell_type": "code",
   "execution_count": 90,
   "metadata": {},
   "outputs": [
    {
     "data": {
      "text/plain": [
       "array([ 1.30591093,  0.05206195, -0.25494434,  0.03312287, -0.89632731,\n",
       "       -0.48882095,  1.12145348,  0.34818394, -0.46370341, -0.55106451,\n",
       "        0.15995286,  0.45651822, -0.64690778])"
      ]
     },
     "execution_count": 90,
     "metadata": {},
     "output_type": "execute_result"
    }
   ],
   "source": [
    "import scipy.stats\n",
    "scipy.stats.skew(hedgeFunds[\"2009\":])"
   ]
  },
  {
   "cell_type": "code",
   "execution_count": 97,
   "metadata": {},
   "outputs": [],
   "source": [
    "def scipySkew(r):\n",
    "    if(isinstance(r, pd.DataFrame)):\n",
    "        return r.aggregate(scipySkew)\n",
    "    elif(isinstance(r, pd.Series)):\n",
    "        return scipy.stats.skew(r)"
   ]
  },
  {
   "cell_type": "code",
   "execution_count": 100,
   "metadata": {},
   "outputs": [
    {
     "data": {
      "text/plain": [
       "Equity Market Neutral    -0.896327\n",
       "Funds Of Funds           -0.646908\n",
       "Merger Arbitrage         -0.551065\n",
       "Event Driven             -0.488821\n",
       "Long/Short Equity        -0.463703\n",
       "Distressed Securities    -0.254944\n",
       "Emerging Markets          0.033123\n",
       "CTA Global                0.052062\n",
       "Relative Value            0.159953\n",
       "Global Macro              0.348184\n",
       "Short Selling             0.456518\n",
       "Fixed Income Arbitrage    1.121453\n",
       "Convertible Arbitrage     1.305911\n",
       "dtype: float64"
      ]
     },
     "execution_count": 100,
     "metadata": {},
     "output_type": "execute_result"
    }
   ],
   "source": [
    "scipySkew(hedgeFunds[\"2009\":]).sort_values()"
   ]
  },
  {
   "cell_type": "code",
   "execution_count": 101,
   "metadata": {},
   "outputs": [],
   "source": [
    "def scipyKurtosis(r):\n",
    "    if(isinstance(r, pd.DataFrame)):\n",
    "        return r.aggregate(scipyKurtosis)\n",
    "    elif(isinstance(r, pd.Series)):\n",
    "        return scipy.stats.kurtosis(r)"
   ]
  },
  {
   "cell_type": "code",
   "execution_count": 103,
   "metadata": {},
   "outputs": [
    {
     "data": {
      "text/plain": [
       "CTA Global                -0.154978\n",
       "Global Macro               0.653278\n",
       "Short Selling              1.352758\n",
       "Long/Short Equity          1.472589\n",
       "Merger Arbitrage           1.520785\n",
       "Event Driven               2.543444\n",
       "Emerging Markets           2.941289\n",
       "Distressed Securities      3.231720\n",
       "Funds Of Funds             4.584725\n",
       "Relative Value             9.731096\n",
       "Equity Market Neutral     17.329621\n",
       "Convertible Arbitrage     20.001449\n",
       "Fixed Income Arbitrage    30.378729\n",
       "dtype: float64"
      ]
     },
     "execution_count": 103,
     "metadata": {},
     "output_type": "execute_result"
    }
   ],
   "source": [
    "scipyKurtosis(hedgeFunds[\"2000\":\"2019\"]).sort_values()"
   ]
  }
 ],
 "metadata": {
  "kernelspec": {
   "display_name": "Python 3",
   "language": "python",
   "name": "python3"
  },
  "language_info": {
   "codemirror_mode": {
    "name": "ipython",
    "version": 3
   },
   "file_extension": ".py",
   "mimetype": "text/x-python",
   "name": "python",
   "nbconvert_exporter": "python",
   "pygments_lexer": "ipython3",
   "version": "3.8.5"
  }
 },
 "nbformat": 4,
 "nbformat_minor": 4
}
